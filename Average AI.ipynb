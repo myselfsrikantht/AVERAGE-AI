{
 "cells": [
  {
   "cell_type": "code",
   "execution_count": 14,
   "id": "4ca335b9",
   "metadata": {},
   "outputs": [
    {
     "name": "stdout",
     "output_type": "stream",
     "text": [
      "Enter a list of numbers separated by spaces: 100 -26 131 306 -46 -46 317 154 -93 110\n",
      "The mean of the data is: 90.7\n"
     ]
    }
   ],
   "source": [
    "from data_analysis_module import analyze_data\n",
    "\n",
    "# Example dataset\n",
    "numbers = input(\"Enter a list of numbers separated by spaces: \").split()\n",
    "\n",
    "result = analyze_data(numbers)\n",
    "print(result)"
   ]
  }
 ],
 "metadata": {
  "kernelspec": {
   "display_name": "Python 3 (ipykernel)",
   "language": "python",
   "name": "python3"
  },
  "language_info": {
   "codemirror_mode": {
    "name": "ipython",
    "version": 3
   },
   "file_extension": ".py",
   "mimetype": "text/x-python",
   "name": "python",
   "nbconvert_exporter": "python",
   "pygments_lexer": "ipython3",
   "version": "3.11.5"
  }
 },
 "nbformat": 4,
 "nbformat_minor": 5
}
